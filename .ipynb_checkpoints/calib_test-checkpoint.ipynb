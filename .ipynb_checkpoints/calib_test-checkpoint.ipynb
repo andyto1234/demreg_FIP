{
 "cells": [
  {
   "cell_type": "code",
   "execution_count": 1,
   "id": "8b87b1a3-a411-49cb-9121-afbda95bf976",
   "metadata": {},
   "outputs": [],
   "source": [
    "from datetime import datetime"
   ]
  },
  {
   "cell_type": "code",
   "execution_count": 85,
   "id": "2c54660e-6ded-4959-9920-391a79fb250c",
   "metadata": {},
   "outputs": [],
   "source": [
    "import sunpy.map"
   ]
  },
  {
   "cell_type": "code",
   "execution_count": 111,
   "id": "0ba94014-3f73-48a3-99f1-241e2099821b",
   "metadata": {
    "scrolled": true
   },
   "outputs": [
    {
     "name": "stdout",
     "output_type": "stream",
     "text": [
      "[0.16098046]\n"
     ]
    }
   ],
   "source": [
    "calib_ratio = eis_ea(float(test_eis.meta['line_id'].split(' ')[-1]))/eis_ea_nrl(test_eis.date.value, float(test_eis.meta['line_id'].split(' ')[-1]))"
   ]
  },
  {
   "cell_type": "code",
   "execution_count": 117,
   "id": "141a85b8-75bd-4571-86e7-089d9d135710",
   "metadata": {},
   "outputs": [
    {
     "data": {
      "text/plain": [
       "1.0130468135438595"
      ]
     },
     "execution_count": 117,
     "metadata": {},
     "output_type": "execute_result"
    }
   ],
   "source": [
    "calib_ratio"
   ]
  },
  {
   "cell_type": "code",
   "execution_count": 39,
   "id": "17a2a452-a06a-42f2-99ae-cdb489df991c",
   "metadata": {},
   "outputs": [],
   "source": [
    "def get_time_tai(date_string):\n",
    "    # get the current time in TAI - specific for IDL.\n",
    "\n",
    "    # IDL reference epoch: January 1, 1979, 00:00:00\n",
    "    idl_ref_epoch = datetime(1979, 1, 1)\n",
    "\n",
    "    # Unix epoch: January 1, 1970, 00:00:00\n",
    "    unix_epoch = datetime(1970, 1, 1)\n",
    "\n",
    "    # Calculate the difference in seconds between the IDL reference epoch and the Unix epoch\n",
    "    epoch_diff = (idl_ref_epoch - unix_epoch).total_seconds()\n",
    "\n",
    "    date_object = datetime.fromisoformat(date_string)\n",
    "    unix_timestamp = date_object.timestamp()\n",
    "\n",
    "    # Adjust the Unix timestamp by subtracting the epoch difference\n",
    "    idl_timestamp = unix_timestamp - epoch_diff+3600\n",
    "\n",
    "    return idl_timestamp"
   ]
  },
  {
   "cell_type": "code",
   "execution_count": 40,
   "id": "a34e2ea8-4eac-489c-8327-70e19c8b753f",
   "metadata": {},
   "outputs": [],
   "source": [
    "def read_calib_file():\n",
    "    from scipy.io import readsav\n",
    "\n",
    "    # Read the calibration file\n",
    "    calib_file = readsav('eis_calibration/eis_calib_warren_2014.sav')\n",
    "    return calib_file['eis']\n"
   ]
  },
  {
   "cell_type": "code",
   "execution_count": 41,
   "id": "57fb73a5-54a2-4f47-9f27-226218a8add9",
   "metadata": {},
   "outputs": [],
   "source": [
    "eis = read_calib_file()"
   ]
  },
  {
   "cell_type": "code",
   "execution_count": 42,
   "id": "8bec648e-2e84-40ca-896c-c1c833ee8cd2",
   "metadata": {},
   "outputs": [],
   "source": [
    "date = '2023-12-28T23:59:59'\n",
    "t = (get_time_tai(date) - get_time_tai(eis['t0'][0].decode('utf-8')))/(86400.*365.25)\n",
    "# tested, same in IDL"
   ]
  },
  {
   "cell_type": "code",
   "execution_count": 43,
   "id": "0ee734c4-0c8f-4e93-9b64-4b1ac4194070",
   "metadata": {},
   "outputs": [],
   "source": [
    "def eis_get_band(wave):\n",
    "    # get band based on the wavelength\n",
    "    band = ''\n",
    "    sw_min = 165\n",
    "    sw_max = 213\n",
    "    pShort = (wave - sw_min) * (sw_max - wave)\n",
    "    if pShort >= 0:\n",
    "        band = 'SW'\n",
    "\n",
    "    lw_min = 245\n",
    "    lw_max = 292\n",
    "    pLong = (wave - lw_min) * (lw_max - wave)\n",
    "    if pLong >= 0:\n",
    "        band = 'LW'\n",
    "\n",
    "    return band"
   ]
  },
  {
   "cell_type": "code",
   "execution_count": 44,
   "id": "0b5ec262-b79f-43cd-9e30-3fcd8761e686",
   "metadata": {},
   "outputs": [
    {
     "data": {
      "text/plain": [
       "1419811199.0"
      ]
     },
     "execution_count": 44,
     "metadata": {},
     "output_type": "execute_result"
    }
   ],
   "source": [
    "get_time_tai(date)"
   ]
  },
  {
   "cell_type": "code",
   "execution_count": 55,
   "id": "cf654ccb-4639-4bf6-8982-e0d760a7a2dc",
   "metadata": {},
   "outputs": [],
   "source": [
    "t = (get_time_tai(date) - get_time_tai(eis['t0'][0].decode('utf-8')))/(86400*365.25)\n"
   ]
  },
  {
   "cell_type": "code",
   "execution_count": 56,
   "id": "add5d0d6-ed4d-412c-b7eb-dcfdd226aec7",
   "metadata": {},
   "outputs": [],
   "source": [
    "ea_knots_SW = eis['a0_sw'][0]*np.exp(-t/eis['tau_sw'][0])\n",
    "ea_knots_LW = eis['a0_lw'][0]*np.exp(-t/eis['tau_lw'][0])\n"
   ]
  },
  {
   "cell_type": "code",
   "execution_count": 58,
   "id": "6da8424e-018d-4da3-8315-b1a30dbeb0a0",
   "metadata": {},
   "outputs": [
    {
     "data": {
      "text/plain": [
       "array([165., 166., 167., 168., 169., 170., 171., 172., 173., 174., 175.,\n",
       "       176., 177., 178., 179., 180., 181., 182., 183., 184., 185., 186.,\n",
       "       187., 188., 189., 190., 191., 192., 193., 194., 195., 196., 197.,\n",
       "       198., 199., 200., 201., 202., 203., 204., 205., 206., 207., 208.,\n",
       "       209., 210., 211., 212., 213.], dtype='>f4')"
      ]
     },
     "execution_count": 58,
     "metadata": {},
     "output_type": "execute_result"
    }
   ],
   "source": [
    "eis['wave_area_sw'][0]"
   ]
  },
  {
   "cell_type": "code",
   "execution_count": 73,
   "id": "96a1a367-8c1f-48ee-9b0a-222c5a6ff550",
   "metadata": {},
   "outputs": [],
   "source": [
    "import numpy as np\n",
    "from scipy.interpolate import splrep, splev\n",
    "\n",
    "def eis_ea_nrl(date, wave, short=False, long=False):\n",
    "    eis = read_calib_file()\n",
    "    t = (get_time_tai(date) - get_time_tai(eis['t0'][0].decode('utf-8')))/(86400*365.25)\n",
    "\n",
    "    ea_knots_SW = eis['a0_sw'][0]*np.exp(-t/eis['tau_sw'][0])\n",
    "    ea_knots_LW = eis['a0_lw'][0]*np.exp(-t/eis['tau_lw'][0])\n",
    "\n",
    "    # -----------------------------------------------------------------\n",
    "    # --- return the effective area on a default wavelength grid\n",
    "    if short:\n",
    "        wave = eis['wave_area_sw'][0]\n",
    "    elif long:\n",
    "        wave = eis['wave_area_lw'][0]\n",
    "\n",
    "    # -----------------------------------------------------------------\n",
    "    # --- spline onto the input wavelength grid\n",
    "    if isinstance(wave, (int, float)):\n",
    "        wave = np.array([wave])\n",
    "\n",
    "    nWave = len(wave)\n",
    "    ea_out = np.zeros(nWave)\n",
    "\n",
    "    for i in range(nWave):\n",
    "        band = eis_get_band(wave[i])\n",
    "\n",
    "        if band == 'SW':\n",
    "            w = eis['wave_knots_sw'][0]\n",
    "            e = np.log(ea_knots_SW)\n",
    "            s = 1\n",
    "        elif band == 'LW':\n",
    "            w = eis['wave_knots_lw'][0]\n",
    "            e = np.log(ea_knots_LW)\n",
    "            s = 1\n",
    "        else:\n",
    "            print(f\"WAVELENGTH OUT OF BOUNDS {wave[i]}\")\n",
    "            s = 0\n",
    "\n",
    "        if s == 1:\n",
    "            tck = splrep(w, e)\n",
    "            ea_out[i] = np.exp(splev(wave[i], tck))\n",
    "            \n",
    "        else:\n",
    "            ea_out[i] = 0.0\n",
    "\n",
    "    if nWave == 1:\n",
    "        ea_out = ea_out[0]\n",
    "\n",
    "    return ea_out\n"
   ]
  },
  {
   "cell_type": "code",
   "execution_count": 79,
   "id": "8c816094-0806-4243-a315-3d50584361a1",
   "metadata": {},
   "outputs": [],
   "source": [
    "import numpy as np\n",
    "from scipy.io import readsav\n",
    "def eis_ea(input_wave, short=False, long=False):\n",
    "    if short:\n",
    "        wave, ea = eis_effective_area_read(short=True)\n",
    "        input_wave = wave\n",
    "        print(input_wave)\n",
    "        return ea\n",
    "\n",
    "    if long:\n",
    "        wave, ea = eis_effective_area_read(long=True)\n",
    "        input_wave = wave\n",
    "        return ea\n",
    "    if isinstance(input_wave, (int, float)):\n",
    "        input_wave = np.array([input_wave])\n",
    "\n",
    "    nWave = len(input_wave)\n",
    "    ea = np.zeros(nWave)\n",
    "\n",
    "    for i in range(nWave):\n",
    "        short, long = is_eis_wavelength(input_wave[i])\n",
    "\n",
    "        if not short and not long:\n",
    "            ea[i] = 0.0\n",
    "        else:\n",
    "            wave, area = eis_effective_area_read(long=long, short=short)\n",
    "            ea[i] = np.exp(np.interp(input_wave[i], wave, np.log(area)))\n",
    "\n",
    "    if nWave == 1:\n",
    "        ea = ea[0]\n",
    "\n",
    "    return ea\n",
    "\n",
    "def eis_effective_area_read(short=False, long=False):\n",
    "    if short:\n",
    "        preflight = readsav('eis_calibration/preflight_calib_short.sav')\n",
    "    if long:\n",
    "        preflight = readsav('eis_calibration/preflight_calib_long.sav')\n",
    "    wave = preflight['wave']\n",
    "    ea = preflight['ea']\n",
    "    return wave, ea\n",
    "\n",
    "def is_eis_wavelength(input_wave):\n",
    "    wave_sw_min = 165\n",
    "    wave_sw_max = 213\n",
    "    wave_lw_min = 245\n",
    "    wave_lw_max = 292\n",
    "\n",
    "    long = False\n",
    "    short = False\n",
    "\n",
    "    ps = (input_wave - wave_sw_min) * (wave_sw_max - input_wave)\n",
    "    if ps > 0:\n",
    "        short = True\n",
    "\n",
    "    pl = (input_wave - wave_lw_min) * (wave_lw_max - input_wave)\n",
    "    if pl > 0:\n",
    "        long = True\n",
    "\n",
    "    out = long or short\n",
    "    return short,long\n"
   ]
  },
  {
   "cell_type": "code",
   "execution_count": 83,
   "id": "4f13c495-6278-4421-85bd-4f80b13df78b",
   "metadata": {},
   "outputs": [
    {
     "data": {
      "text/plain": [
       "0.30180300929913173"
      ]
     },
     "execution_count": 83,
     "metadata": {},
     "output_type": "execute_result"
    }
   ],
   "source": [
    "eis_ea(195)"
   ]
  },
  {
   "cell_type": "code",
   "execution_count": 84,
   "id": "3b83d2a5-afd0-495c-9080-c0ab246f4f8b",
   "metadata": {},
   "outputs": [
    {
     "name": "stdout",
     "output_type": "stream",
     "text": [
      "[0.41812794]\n"
     ]
    },
    {
     "data": {
      "text/plain": [
       "0.4181279443915417"
      ]
     },
     "execution_count": 84,
     "metadata": {},
     "output_type": "execute_result"
    }
   ],
   "source": [
    "date = '2007-12-28T23:59:59'\n",
    "\n",
    "eis_ea_nrl(date,195)"
   ]
  },
  {
   "cell_type": "code",
   "execution_count": 87,
   "id": "4d8664fb-7b32-4a78-9b3b-94d19e4cc6bc",
   "metadata": {},
   "outputs": [
    {
     "data": {
      "text/plain": [
       "True"
      ]
     },
     "execution_count": 87,
     "metadata": {},
     "output_type": "execute_result"
    }
   ],
   "source": [
    "type(195.12) == float"
   ]
  },
  {
   "cell_type": "code",
   "execution_count": 95,
   "id": "3be55801-03ca-445e-8915-555aacac8be0",
   "metadata": {},
   "outputs": [],
   "source": [
    "input_wave = 195.12"
   ]
  },
  {
   "cell_type": "code",
   "execution_count": 96,
   "id": "9204079e-c2da-4006-a36c-0e6c005a4d92",
   "metadata": {},
   "outputs": [],
   "source": [
    "input_wave = [input_wave]"
   ]
  },
  {
   "cell_type": "code",
   "execution_count": 97,
   "id": "da530f24-7041-4c1c-9650-5fa195d03564",
   "metadata": {},
   "outputs": [
    {
     "data": {
      "text/plain": [
       "[195.12]"
      ]
     },
     "execution_count": 97,
     "metadata": {},
     "output_type": "execute_result"
    }
   ],
   "source": [
    "input_wave"
   ]
  },
  {
   "cell_type": "code",
   "execution_count": 104,
   "id": "84275908-bb6c-49fc-9f8e-4740d39d42e8",
   "metadata": {},
   "outputs": [
    {
     "data": {
      "text/plain": [
       "1"
      ]
     },
     "execution_count": 104,
     "metadata": {},
     "output_type": "execute_result"
    }
   ],
   "source": [
    "len(np.array([[195.12,193]]))"
   ]
  },
  {
   "cell_type": "code",
   "execution_count": null,
   "id": "66123560-7f1a-4903-8111-1bb8f17307c4",
   "metadata": {},
   "outputs": [],
   "source": []
  },
  {
   "cell_type": "code",
   "execution_count": null,
   "id": "fef8490e-beb3-408f-ae02-b928ce23c57d",
   "metadata": {},
   "outputs": [],
   "source": []
  }
 ],
 "metadata": {
  "kernelspec": {
   "display_name": "Python 3 (ipykernel)",
   "language": "python",
   "name": "python3"
  },
  "language_info": {
   "codemirror_mode": {
    "name": "ipython",
    "version": 3
   },
   "file_extension": ".py",
   "mimetype": "text/x-python",
   "name": "python",
   "nbconvert_exporter": "python",
   "pygments_lexer": "ipython3",
   "version": "3.9.15"
  }
 },
 "nbformat": 4,
 "nbformat_minor": 5
}
