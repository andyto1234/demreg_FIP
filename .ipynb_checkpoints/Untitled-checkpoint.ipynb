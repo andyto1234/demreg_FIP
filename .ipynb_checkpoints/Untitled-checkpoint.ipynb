{
 "cells": [
  {
   "cell_type": "code",
   "execution_count": 1,
   "id": "8b87b1a3-a411-49cb-9121-afbda95bf976",
   "metadata": {},
   "outputs": [],
   "source": [
    "from datetime import datetime\n"
   ]
  },
  {
   "cell_type": "code",
   "execution_count": 17,
   "id": "17a2a452-a06a-42f2-99ae-cdb489df991c",
   "metadata": {},
   "outputs": [],
   "source": [
    "\n",
    "def get_time_tai(date_string = \"2023-12-31T23:59:59\"):\n",
    "    # get the current time in TAI - specific for IDL.\n",
    "\n",
    "    # IDL reference epoch: January 1, 1979, 00:00:00\n",
    "    idl_ref_epoch = datetime(1979, 1, 1)\n",
    "\n",
    "    # Unix epoch: January 1, 1970, 00:00:00\n",
    "    unix_epoch = datetime(1970, 1, 1)\n",
    "\n",
    "    # Calculate the difference in seconds between the IDL reference epoch and the Unix epoch\n",
    "    epoch_diff = (idl_ref_epoch - unix_epoch).total_seconds()\n",
    "\n",
    "    date_object = datetime.fromisoformat(date_string)\n",
    "    unix_timestamp = date_object.timestamp()\n",
    "\n",
    "    # Adjust the Unix timestamp by subtracting the epoch difference\n",
    "    idl_timestamp = unix_timestamp - epoch_diff + 3600\n",
    "\n",
    "    return idl_timestamp"
   ]
  },
  {
   "cell_type": "code",
   "execution_count": 18,
   "id": "a34e2ea8-4eac-489c-8327-70e19c8b753f",
   "metadata": {},
   "outputs": [],
   "source": [
    "def read_calib_file():\n",
    "    from scipy.io import readsav\n",
    "\n",
    "    # Read the calibration file\n",
    "    calib_file = readsav('eis_calibration/eis_calib_warren_2014.sav')\n",
    "    return calib_file['eis']\n"
   ]
  },
  {
   "cell_type": "code",
   "execution_count": 4,
   "id": "57fb73a5-54a2-4f47-9f27-226218a8add9",
   "metadata": {},
   "outputs": [],
   "source": [
    "eis = read_calib_file()"
   ]
  },
  {
   "cell_type": "code",
   "execution_count": 15,
   "id": "c518c666-b82c-498d-aeda-e732e7901e73",
   "metadata": {},
   "outputs": [
    {
     "ename": "AttributeError",
     "evalue": "'numpy.ndarray' object has no attribute 'decode'",
     "output_type": "error",
     "traceback": [
      "\u001b[0;31m---------------------------------------------------------------------------\u001b[0m",
      "\u001b[0;31mAttributeError\u001b[0m                            Traceback (most recent call last)",
      "Cell \u001b[0;32mIn[15], line 1\u001b[0m\n\u001b[0;32m----> 1\u001b[0m \u001b[43meis\u001b[49m\u001b[43m[\u001b[49m\u001b[38;5;124;43m'\u001b[39;49m\u001b[38;5;124;43mt0\u001b[39;49m\u001b[38;5;124;43m'\u001b[39;49m\u001b[43m]\u001b[49m\u001b[38;5;241;43m.\u001b[39;49m\u001b[43mdecode\u001b[49m(\u001b[38;5;124m'\u001b[39m\u001b[38;5;124mutf-8\u001b[39m\u001b[38;5;124m'\u001b[39m)\n",
      "\u001b[0;31mAttributeError\u001b[0m: 'numpy.ndarray' object has no attribute 'decode'"
     ]
    }
   ],
   "source": [
    "eis['t0'][0].decode('utf-8')"
   ]
  },
  {
   "cell_type": "code",
   "execution_count": 19,
   "id": "8bec648e-2e84-40ca-896c-c1c833ee8cd2",
   "metadata": {},
   "outputs": [],
   "source": [
    "date = \"2023-03-28T23:59:59\"\n",
    "t = (get_time_tai(date) - get_time_tai(eis['t0'][0].decode('utf-8')))/(86400.*365.25)\n",
    "# tested, same in IDL"
   ]
  },
  {
   "cell_type": "code",
   "execution_count": 32,
   "id": "c20c75e4-f12e-47bf-b8d3-15a0edd653d8",
   "metadata": {},
   "outputs": [],
   "source": [
    "import numpy as np\n",
    "ea_knots_SW = eis['a0_sw'][0]*np.exp(-t/eis['tau_sw'][0])\n",
    "ea_knots_LW = eis['a0_lw'][0]*np.exp(-t/eis['tau_lw'][0])\n",
    "# tested and arrays are the same"
   ]
  },
  {
   "cell_type": "code",
   "execution_count": 33,
   "id": "d9c79728-a8ae-44f2-baab-143cb9d4c592",
   "metadata": {},
   "outputs": [
    {
     "data": {
      "text/plain": [
       "array([1.1997924e-04, 7.5359311e-04, 1.3045345e-02, 1.6794124e-01,\n",
       "       2.8183192e-01, 7.6474056e-02, 3.7523013e-02], dtype=float32)"
      ]
     },
     "execution_count": 33,
     "metadata": {},
     "output_type": "execute_result"
    }
   ],
   "source": [
    "ea_knots_SW"
   ]
  },
  {
   "cell_type": "code",
   "execution_count": 34,
   "id": "3c62df46-a106-4192-9788-7bb15858be58",
   "metadata": {},
   "outputs": [
    {
     "data": {
      "text/plain": [
       "array([0.00580491, 0.01545041, 0.02550547, 0.0217761 , 0.02145736,\n",
       "       0.00859831, 0.00574666], dtype=float32)"
      ]
     },
     "execution_count": 34,
     "metadata": {},
     "output_type": "execute_result"
    }
   ],
   "source": [
    "ea_knots_LW"
   ]
  },
  {
   "cell_type": "code",
   "execution_count": 41,
   "id": "0ee734c4-0c8f-4e93-9b64-4b1ac4194070",
   "metadata": {},
   "outputs": [],
   "source": [
    "def eis_get_band(wave):\n",
    "    # get band based on the wavelength\n",
    "    band = ''\n",
    "    sw_min = 165\n",
    "    sw_max = 213\n",
    "    pShort = (wave - sw_min) * (sw_max - wave)\n",
    "    if pShort >= 0:\n",
    "        band = 'SW'\n",
    "\n",
    "    lw_min = 245\n",
    "    lw_max = 292\n",
    "    pLong = (wave - lw_min) * (lw_max - wave)\n",
    "    if pLong >= 0:\n",
    "        band = 'LW'\n",
    "\n",
    "    return band"
   ]
  },
  {
   "cell_type": "code",
   "execution_count": 42,
   "id": "6497586c-cb36-4bb5-ba6c-75374fee5167",
   "metadata": {},
   "outputs": [
    {
     "data": {
      "text/plain": [
       "array([165., 173., 181., 189., 197., 205., 213.], dtype='>f4')"
      ]
     },
     "execution_count": 42,
     "metadata": {},
     "output_type": "execute_result"
    }
   ],
   "source": [
    "eis['wave_knots_sw'][0]"
   ]
  },
  {
   "cell_type": "code",
   "execution_count": 44,
   "id": "96a1a367-8c1f-48ee-9b0a-222c5a6ff550",
   "metadata": {},
   "outputs": [],
   "source": [
    "import numpy as np\n",
    "\n",
    "def eis_effective_area(eis, t, short=False, long=False):\n",
    "    ea_knots_SW = eis['a0_sw'][0]*np.exp(-t/eis['tau_sw'][0])\n",
    "    ea_knots_LW = eis['a0_lw'][0]*np.exp(-t/eis['tau_lw'][0])\n",
    "\n",
    "    # -----------------------------------------------------------------\n",
    "    # --- return the effective area on a default wavelength grid\n",
    "    if short:\n",
    "        wave = eis['wave_area_sw'][0]\n",
    "    elif long:\n",
    "        wave = eis['wave_area_lw'][0]\n",
    "    else:\n",
    "        wave = None\n",
    "\n",
    "    # -----------------------------------------------------------------\n",
    "    # --- spline onto the input wavelength grid\n",
    "    nWave = len(wave)\n",
    "    ea_out = np.zeros(nWave)\n",
    "\n",
    "    for i in range(nWave):\n",
    "        band = eis_get_band(wave[i])\n",
    "\n",
    "        if band == 'SW':\n",
    "            w = eis['wave_knots_sw'][0]\n",
    "            e = np.log(ea_knots_SW)\n",
    "            s = 1\n",
    "        elif band == 'LW':\n",
    "            w = eis['wave_knots_lw'][0]\n",
    "            e = np.log(ea_knots_LW)\n",
    "            s = 1\n",
    "        else:\n",
    "            print(f\"WAVELENGTH OUT OF BOUNDS {wave[i]}\")\n",
    "            s = 0\n",
    "\n",
    "        if s == 1:\n",
    "            ea_out[i] = np.exp(np.interp(wave[i], w, e))\n",
    "        else:\n",
    "            ea_out[i] = 0.0\n",
    "\n",
    "    if nWave == 1:\n",
    "        ea_out = ea_out[0]\n",
    "\n",
    "    return ea_out\n"
   ]
  },
  {
   "cell_type": "code",
   "execution_count": 40,
   "id": "d89d62dc-b9eb-4746-981f-75e4f78c5152",
   "metadata": {},
   "outputs": [
    {
     "data": {
      "text/plain": [
       "array([-9.028192 , -7.190658 , -4.339324 , -1.7841411, -1.2664444,\n",
       "       -2.5708036, -3.282801 ], dtype=float32)"
      ]
     },
     "execution_count": 40,
     "metadata": {},
     "output_type": "execute_result"
    }
   ],
   "source": [
    "import numpy as np\n",
    "\n",
    "def eis_ea(input_wave, short=False, long=False):\n",
    "    if short:\n",
    "        wave, ea = eis_effective_area_read(short=True)\n",
    "        input_wave = wave\n",
    "        return ea\n",
    "\n",
    "    if long:\n",
    "        wave, ea = eis_effective_area_read(long=True)\n",
    "        input_wave = wave\n",
    "        return ea\n",
    "\n",
    "    nWave = len(input_wave)\n",
    "    ea = np.zeros(nWave)\n",
    "\n",
    "    for i in range(nWave):\n",
    "        short, long = is_eis_wavelength(input_wave[i])\n",
    "\n",
    "        if not short and not long:\n",
    "            ea[i] = 0.0\n",
    "        else:\n",
    "            wave, area = eis_effective_area_read(long=long, short=short)\n",
    "            ea[i] = np.exp(np.interp(input_wave[i], wave, np.log(area)))\n",
    "\n",
    "    if nWave == 1:\n",
    "        ea = ea[0]\n",
    "\n",
    "    return ea\n",
    "\n",
    "def eis_effective_area_read(short=False, long=False):\n",
    "    # Implement the logic to read the effective area data based on the 'short' and 'long' flags\n",
    "    # Return the 'wave' and 'ea' arrays\n",
    "    pass\n",
    "\n",
    "def is_eis_wavelength(wavelength):\n",
    "    # Implement the logic to determine if the wavelength is observed by EIS\n",
    "    # Return 'short' and 'long' flags\n",
    "    pass"
   ]
  },
  {
   "cell_type": "code",
   "execution_count": null,
   "id": "8c816094-0806-4243-a315-3d50584361a1",
   "metadata": {},
   "outputs": [],
   "source": [
    "def eis_recalibrate_intensity():\n",
    "    "
   ]
  }
 ],
 "metadata": {
  "kernelspec": {
   "display_name": "Python 3 (ipykernel)",
   "language": "python",
   "name": "python3"
  },
  "language_info": {
   "codemirror_mode": {
    "name": "ipython",
    "version": 3
   },
   "file_extension": ".py",
   "mimetype": "text/x-python",
   "name": "python",
   "nbconvert_exporter": "python",
   "pygments_lexer": "ipython3",
   "version": "3.9.15"
  }
 },
 "nbformat": 4,
 "nbformat_minor": 5
}
