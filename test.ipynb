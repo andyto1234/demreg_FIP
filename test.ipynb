{
 "cells": [
  {
   "cell_type": "code",
   "execution_count": 3,
   "id": "5123de1e-e826-4b69-96c5-4d9dea28548a",
   "metadata": {},
   "outputs": [
    {
     "ename": "ModuleNotFoundError",
     "evalue": "No module named 'demregpy'",
     "output_type": "error",
     "traceback": [
      "\u001b[0;31m---------------------------------------------------------------------------\u001b[0m",
      "\u001b[0;31mModuleNotFoundError\u001b[0m                       Traceback (most recent call last)",
      "Cell \u001b[0;32mIn[3], line 1\u001b[0m\n\u001b[0;32m----> 1\u001b[0m \u001b[38;5;28;01mfrom\u001b[39;00m \u001b[38;5;21;01mmcmc_para\u001b[39;00m \u001b[38;5;28;01mimport\u001b[39;00m \u001b[38;5;241m*\u001b[39m\n",
      "File \u001b[0;32m~/Script/Python_Script/demreg_FIP/mcmc_para.py:12\u001b[0m\n\u001b[1;32m      9\u001b[0m \u001b[38;5;28;01mimport\u001b[39;00m \u001b[38;5;21;01mplatform\u001b[39;00m\n\u001b[1;32m     11\u001b[0m \u001b[38;5;28;01mfrom\u001b[39;00m \u001b[38;5;21;01mmcmc\u001b[39;00m\u001b[38;5;21;01m.\u001b[39;00m\u001b[38;5;21;01mmcmc_utils\u001b[39;00m \u001b[38;5;28;01mimport\u001b[39;00m calc_chi2\n\u001b[0;32m---> 12\u001b[0m \u001b[38;5;28;01mfrom\u001b[39;00m \u001b[38;5;21;01mdemregpy\u001b[39;00m \u001b[38;5;28;01mimport\u001b[39;00m dn2dem\n\u001b[1;32m     13\u001b[0m \u001b[38;5;28;01mimport\u001b[39;00m \u001b[38;5;21;01mdemregpy\u001b[39;00m\n\u001b[1;32m     16\u001b[0m \u001b[38;5;28;01mdef\u001b[39;00m \u001b[38;5;21mcheck_dem_exists\u001b[39m(filename: \u001b[38;5;28mstr\u001b[39m) \u001b[38;5;241m-\u001b[39m\u001b[38;5;241m>\u001b[39m \u001b[38;5;28mbool\u001b[39m:\n\u001b[1;32m     17\u001b[0m     \u001b[38;5;66;03m# Check if the DEM file exists\u001b[39;00m\n",
      "\u001b[0;31mModuleNotFoundError\u001b[0m: No module named 'demregpy'"
     ]
    }
   ],
   "source": [
    "from mcmc_para import *"
   ]
  },
  {
   "cell_type": "code",
   "execution_count": null,
   "id": "c4d5b3f4-3ff4-44cc-a15b-7130d80d666c",
   "metadata": {},
   "outputs": [],
   "source": [
    "SO_EIS_data/eis_20071017_024748.data.h5"
   ]
  },
  {
   "cell_type": "code",
   "execution_count": null,
   "id": "4d96b417-9df0-4c88-9199-0db864592deb",
   "metadata": {},
   "outputs": [],
   "source": [
    "calc_composition(filename, np_file, line_databases, args.cores)\n",
    "\n",
    "# Change \"[processing]\" to \"[processed]\" in filenames.txt after processing is finished\n",
    "processed_filename = filename + \" [processed]\"\n",
    "update_filenames_txt(processing_filename, processed_filename)\n",
    "\n"
   ]
  }
 ],
 "metadata": {
  "kernelspec": {
   "display_name": "Python 3 (ipykernel)",
   "language": "python",
   "name": "python3"
  },
  "language_info": {
   "codemirror_mode": {
    "name": "ipython",
    "version": 3
   },
   "file_extension": ".py",
   "mimetype": "text/x-python",
   "name": "python",
   "nbconvert_exporter": "python",
   "pygments_lexer": "ipython3",
   "version": "3.11.0"
  }
 },
 "nbformat": 4,
 "nbformat_minor": 5
}
